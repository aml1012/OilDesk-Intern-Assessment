{
 "cells": [
  {
   "cell_type": "markdown",
   "id": "84c51dab",
   "metadata": {},
   "source": [
    "### Question 2: CRUD Operations in SQL Server\n",
    "**Objective:** Basic SQL Server interactions.\n",
    "\n",
    "**Task:**\n",
    "- Create an SQL table schema to store time-series metal prices. Include fields like `Date`, `Metal`, `Price`.\n",
    "- Demonstrate basic CRUD operations\n"
   ]
  },
  {
   "cell_type": "code",
   "execution_count": 44,
   "id": "beeac9d2",
   "metadata": {},
   "outputs": [],
   "source": [
    "import pandas as pd\n",
    "import numpy as np\n",
    "import sqlite3\n",
    "import matplotlib.pyplot as plt"
   ]
  },
  {
   "cell_type": "code",
   "execution_count": 45,
   "id": "1095c15a",
   "metadata": {},
   "outputs": [],
   "source": [
    "# reading in the data \n",
    "data = pd.read_csv(r\"C:\\Users\\lagan\\Desktop\\OilDesk-Intern-Assessment\\data\\MarketData.csv\")\n",
    "data.columns = ['Date','LME_Copper_3MO', 'LME_Aluminum_3MO', 'LME_Zinc_3MO','LME_Lead_3MO', 'LME_Tin_3MO', 'Generic_CL_Future']\n",
    "data = data.drop(index = data.index[:6])"
   ]
  },
  {
   "cell_type": "code",
   "execution_count": 46,
   "id": "e17b951f",
   "metadata": {},
   "outputs": [
    {
     "data": {
      "text/plain": [
       "Date                 datetime64[ns]\n",
       "LME_Copper_3MO              float64\n",
       "LME_Aluminum_3MO            float64\n",
       "LME_Zinc_3MO                float64\n",
       "LME_Lead_3MO                float64\n",
       "LME_Tin_3MO                   int64\n",
       "Generic_CL_Future           float64\n",
       "dtype: object"
      ]
     },
     "execution_count": 46,
     "metadata": {},
     "output_type": "execute_result"
    }
   ],
   "source": [
    "# transforming the data into the functional datatypes\n",
    "data['Date'] = pd.to_datetime(data['Date'], dayfirst= True)\n",
    "\n",
    "metal_cols = ['LME_Copper_3MO', 'LME_Aluminum_3MO', 'LME_Zinc_3MO','LME_Lead_3MO', 'LME_Tin_3MO', 'Generic_CL_Future']\n",
    "\n",
    "for metal in metal_cols:\n",
    "    data[metal] = pd.to_numeric(data[metal])\n",
    "    \n",
    "data.dtypes ## checking its been transformed "
   ]
  },
  {
   "cell_type": "code",
   "execution_count": 47,
   "id": "e1b7ceb9",
   "metadata": {},
   "outputs": [
    {
     "data": {
      "text/html": [
       "<div>\n",
       "<style scoped>\n",
       "    .dataframe tbody tr th:only-of-type {\n",
       "        vertical-align: middle;\n",
       "    }\n",
       "\n",
       "    .dataframe tbody tr th {\n",
       "        vertical-align: top;\n",
       "    }\n",
       "\n",
       "    .dataframe thead th {\n",
       "        text-align: right;\n",
       "    }\n",
       "</style>\n",
       "<table border=\"1\" class=\"dataframe\">\n",
       "  <thead>\n",
       "    <tr style=\"text-align: right;\">\n",
       "      <th></th>\n",
       "      <th>LME_Copper_3MO</th>\n",
       "      <th>LME_Aluminum_3MO</th>\n",
       "      <th>LME_Zinc_3MO</th>\n",
       "      <th>LME_Lead_3MO</th>\n",
       "      <th>LME_Tin_3MO</th>\n",
       "      <th>Generic_CL_Future</th>\n",
       "    </tr>\n",
       "    <tr>\n",
       "      <th>Date</th>\n",
       "      <th></th>\n",
       "      <th></th>\n",
       "      <th></th>\n",
       "      <th></th>\n",
       "      <th></th>\n",
       "      <th></th>\n",
       "    </tr>\n",
       "  </thead>\n",
       "  <tbody>\n",
       "    <tr>\n",
       "      <th>2010-01-01</th>\n",
       "      <td>7375.0</td>\n",
       "      <td>2230.0</td>\n",
       "      <td>2560.0</td>\n",
       "      <td>2432.0</td>\n",
       "      <td>16950</td>\n",
       "      <td>79.36</td>\n",
       "    </tr>\n",
       "    <tr>\n",
       "      <th>2010-01-04</th>\n",
       "      <td>7500.0</td>\n",
       "      <td>2267.0</td>\n",
       "      <td>2574.0</td>\n",
       "      <td>2515.0</td>\n",
       "      <td>17450</td>\n",
       "      <td>81.51</td>\n",
       "    </tr>\n",
       "    <tr>\n",
       "      <th>2010-01-05</th>\n",
       "      <td>7485.0</td>\n",
       "      <td>2302.0</td>\n",
       "      <td>2575.0</td>\n",
       "      <td>2522.5</td>\n",
       "      <td>17375</td>\n",
       "      <td>81.77</td>\n",
       "    </tr>\n",
       "    <tr>\n",
       "      <th>2010-01-06</th>\n",
       "      <td>7660.0</td>\n",
       "      <td>2377.0</td>\n",
       "      <td>2718.0</td>\n",
       "      <td>2680.0</td>\n",
       "      <td>17825</td>\n",
       "      <td>83.18</td>\n",
       "    </tr>\n",
       "    <tr>\n",
       "      <th>2010-01-07</th>\n",
       "      <td>7535.0</td>\n",
       "      <td>2310.0</td>\n",
       "      <td>2607.0</td>\n",
       "      <td>2599.0</td>\n",
       "      <td>17475</td>\n",
       "      <td>82.66</td>\n",
       "    </tr>\n",
       "  </tbody>\n",
       "</table>\n",
       "</div>"
      ],
      "text/plain": [
       "            LME_Copper_3MO  LME_Aluminum_3MO  LME_Zinc_3MO  LME_Lead_3MO  \\\n",
       "Date                                                                       \n",
       "2010-01-01          7375.0            2230.0        2560.0        2432.0   \n",
       "2010-01-04          7500.0            2267.0        2574.0        2515.0   \n",
       "2010-01-05          7485.0            2302.0        2575.0        2522.5   \n",
       "2010-01-06          7660.0            2377.0        2718.0        2680.0   \n",
       "2010-01-07          7535.0            2310.0        2607.0        2599.0   \n",
       "\n",
       "            LME_Tin_3MO  Generic_CL_Future  \n",
       "Date                                        \n",
       "2010-01-01        16950              79.36  \n",
       "2010-01-04        17450              81.51  \n",
       "2010-01-05        17375              81.77  \n",
       "2010-01-06        17825              83.18  \n",
       "2010-01-07        17475              82.66  "
      ]
     },
     "execution_count": 47,
     "metadata": {},
     "output_type": "execute_result"
    }
   ],
   "source": [
    "## setting the Date as the index\n",
    "data.set_index('Date', inplace=True)\n",
    "data.head()"
   ]
  },
  {
   "cell_type": "code",
   "execution_count": 48,
   "id": "7724a753",
   "metadata": {},
   "outputs": [],
   "source": [
    "## connecting to the database\n",
    "connection = sqlite3.connect('metal_prices.db')\n",
    "cursor = connection.cursor()"
   ]
  },
  {
   "cell_type": "code",
   "execution_count": 49,
   "id": "0aac56fe",
   "metadata": {},
   "outputs": [
    {
     "data": {
      "text/plain": [
       "<sqlite3.Cursor at 0x20873d3d2c0>"
      ]
     },
     "execution_count": 49,
     "metadata": {},
     "output_type": "execute_result"
    }
   ],
   "source": [
    "## avoiding issues with database locking\n",
    "cursor.execute('PRAGMA journal_mode = WAL;')"
   ]
  },
  {
   "cell_type": "code",
   "execution_count": 50,
   "id": "94a1c8d6",
   "metadata": {},
   "outputs": [],
   "source": [
    "##  pulling the data from the df to the database - creating a new\n",
    "## table for each metal \n",
    "for metal in data.columns:\n",
    "    table_name = metal\n",
    "    \n",
    "    cursor.execute(f\"\"\"\n",
    "    CREATE TABLE IF NOT EXISTS {table_name}(\n",
    "    date DATE PRIMARY KEY,\n",
    "    price REAL)\"\"\")\n",
    "    \n",
    "    \n",
    "    \n",
    "    for date, price in data[metal].items():\n",
    "        date = date.strftime('%Y-%m-%d')\n",
    "        cursor.execute(f\"\"\"\n",
    "        INSERT OR REPLACE INTO {table_name}(date,price) VALUES (?,?)\n",
    "        \"\"\" ,(date, price))\n",
    "        \n",
    "    connection.commit() ## committing after each table to avoid db locking\n",
    "connection.close() "
   ]
  },
  {
   "cell_type": "code",
   "execution_count": 51,
   "id": "73a469e6",
   "metadata": {},
   "outputs": [
    {
     "data": {
      "text/plain": [
       "[('LME_Copper_3MO',),\n",
       " ('LME_Aluminum_3MO',),\n",
       " ('LME_Zinc_3MO',),\n",
       " ('LME_Lead_3MO',),\n",
       " ('LME_Tin_3MO',),\n",
       " ('Generic_CL_Future',)]"
      ]
     },
     "execution_count": 51,
     "metadata": {},
     "output_type": "execute_result"
    }
   ],
   "source": [
    "## reconnecting and checking the tables have been created\n",
    "connection = sqlite3.connect('metal_prices.db')\n",
    "cursor = connection.cursor()\n",
    "cursor.execute(\"SELECT name FROM sqlite_master WHERE type = 'table';\").fetchall()"
   ]
  },
  {
   "cell_type": "code",
   "execution_count": 52,
   "id": "23b7bdd0",
   "metadata": {},
   "outputs": [
    {
     "data": {
      "text/plain": [
       "[('2010-01-01', 7375.0),\n",
       " ('2010-01-04', 7500.0),\n",
       " ('2010-01-05', 7485.0),\n",
       " ('2010-01-06', 7660.0),\n",
       " ('2010-01-07', 7535.0),\n",
       " ('2010-01-08', 7461.0),\n",
       " ('2010-01-11', 7567.5),\n",
       " ('2010-01-12', 7455.0),\n",
       " ('2010-01-13', 7485.0),\n",
       " ('2010-01-14', 7490.0)]"
      ]
     },
     "execution_count": 52,
     "metadata": {},
     "output_type": "execute_result"
    }
   ],
   "source": [
    "## checking the data has been loaded to the database\n",
    "cursor.execute(\"SELECT * FROM 'LME_Copper_3MO'ORDER BY date LIMIT 10\").fetchall()"
   ]
  },
  {
   "cell_type": "code",
   "execution_count": 53,
   "id": "ba0b6160",
   "metadata": {},
   "outputs": [
    {
     "data": {
      "text/plain": [
       "Date\n",
       "2010-01-01    7375.0\n",
       "2010-01-04    7500.0\n",
       "2010-01-05    7485.0\n",
       "2010-01-06    7660.0\n",
       "2010-01-07    7535.0\n",
       "2010-01-08    7461.0\n",
       "2010-01-11    7567.5\n",
       "2010-01-12    7455.0\n",
       "2010-01-13    7485.0\n",
       "2010-01-14    7490.0\n",
       "Name: LME_Copper_3MO, dtype: float64"
      ]
     },
     "execution_count": 53,
     "metadata": {},
     "output_type": "execute_result"
    }
   ],
   "source": [
    "## checking prices and dates match\n",
    "data['LME_Copper_3MO'].head(10)"
   ]
  },
  {
   "cell_type": "code",
   "execution_count": 54,
   "id": "ca3e4746",
   "metadata": {
    "scrolled": true
   },
   "outputs": [
    {
     "data": {
      "text/plain": [
       "[('2016-01-15', 4331.0),\n",
       " ('2016-01-12', 4352.0),\n",
       " ('2016-01-20', 4359.0),\n",
       " ('2016-01-18', 4377.0),\n",
       " ('2016-01-11', 4387.0),\n",
       " ('2016-01-13', 4392.0),\n",
       " ('2016-01-19', 4408.0),\n",
       " ('2016-01-14', 4415.5),\n",
       " ('2016-01-25', 4417.0),\n",
       " ('2016-01-21', 4430.0)]"
      ]
     },
     "execution_count": 54,
     "metadata": {},
     "output_type": "execute_result"
    }
   ],
   "source": [
    "## query-ing the lowest prices for copper and the dates in they occured\n",
    "cursor.execute(\"SELECT * FROM 'LME_Copper_3MO' ORDER BY price ASC LIMIT 10\").fetchall()"
   ]
  },
  {
   "cell_type": "code",
   "execution_count": 55,
   "id": "fb6df33d",
   "metadata": {},
   "outputs": [
    {
     "data": {
      "text/plain": [
       "[('2010-01', 7392.74),\n",
       " ('2010-02', 6891.65),\n",
       " ('2010-03', 7501.26),\n",
       " ('2010-04', 7774.36),\n",
       " ('2010-05', 6904.48),\n",
       " ('2010-06', 6530.0),\n",
       " ('2010-07', 6772.45),\n",
       " ('2010-08', 7331.02),\n",
       " ('2010-09', 7739.77),\n",
       " ('2010-10', 8302.76),\n",
       " ('2010-11', 8440.23),\n",
       " ('2010-12', 9127.37),\n",
       " ('2011-01', 9520.57),\n",
       " ('2011-02', 9872.05),\n",
       " ('2011-03', 9514.39),\n",
       " ('2011-04', 9514.33),\n",
       " ('2011-05', 8979.0),\n",
       " ('2011-06', 9077.82),\n",
       " ('2011-07', 9670.29),\n",
       " ('2011-08', 9020.52),\n",
       " ('2011-09', 8321.18),\n",
       " ('2011-10', 7407.48),\n",
       " ('2011-11', 7602.3),\n",
       " ('2011-12', 7584.09),\n",
       " ('2012-01', 8052.36),\n",
       " ('2012-02', 8450.77),\n",
       " ('2012-03', 8455.02),\n",
       " ('2012-04', 8230.05),\n",
       " ('2012-05', 7854.46),\n",
       " ('2012-06', 7423.95),\n",
       " ('2012-07', 7583.73),\n",
       " ('2012-08', 7523.24),\n",
       " ('2012-09', 8094.9),\n",
       " ('2012-10', 8063.63),\n",
       " ('2012-11', 7721.3),\n",
       " ('2012-12', 7972.76),\n",
       " ('2013-01', 8078.24),\n",
       " ('2013-02', 8094.08),\n",
       " ('2013-03', 7676.98),\n",
       " ('2013-04', 7264.82),\n",
       " ('2013-05', 7278.04),\n",
       " ('2013-06', 7032.05),\n",
       " ('2013-07', 6916.43),\n",
       " ('2013-08', 7217.36),\n",
       " ('2013-09', 7186.36),\n",
       " ('2013-10', 7222.52),\n",
       " ('2013-11', 7074.88),\n",
       " ('2013-12', 7213.61),\n",
       " ('2014-01', 7266.24),\n",
       " ('2014-02', 7101.6),\n",
       " ('2014-03', 6632.43),\n",
       " ('2014-04', 6664.5),\n",
       " ('2014-05', 6831.82),\n",
       " ('2014-06', 6791.17),\n",
       " ('2014-07', 7104.24),\n",
       " ('2014-08', 6986.33),\n",
       " ('2014-09', 6837.55),\n",
       " ('2014-10', 6680.33),\n",
       " ('2014-11', 6647.53),\n",
       " ('2014-12', 6381.33),\n",
       " ('2015-01', 5800.75),\n",
       " ('2015-02', 5710.48),\n",
       " ('2015-03', 5916.34),\n",
       " ('2015-04', 6026.05),\n",
       " ('2015-05', 6294.07),\n",
       " ('2015-06', 5847.23),\n",
       " ('2015-07', 5472.2),\n",
       " ('2015-08', 5125.93),\n",
       " ('2015-09', 5201.5),\n",
       " ('2015-10', 5204.61),\n",
       " ('2015-11', 4785.74),\n",
       " ('2015-12', 4644.59),\n",
       " ('2016-01', 4481.9),\n",
       " ('2016-02', 4593.19),\n",
       " ('2016-03', 4935.52),\n",
       " ('2016-04', 4856.31),\n",
       " ('2016-05', 4698.09),\n",
       " ('2016-06', 4648.09),\n",
       " ('2016-07', 4879.48),\n",
       " ('2016-08', 4757.28),\n",
       " ('2016-09', 4740.02),\n",
       " ('2016-10', 4749.17),\n",
       " ('2016-11', 5463.32),\n",
       " ('2016-12', 5651.41),\n",
       " ('2017-01', 5763.0),\n",
       " ('2017-02', 5953.45),\n",
       " ('2017-03', 5844.87),\n",
       " ('2017-04', 5710.75),\n",
       " ('2017-05', 5627.76),\n",
       " ('2017-06', 5743.2),\n",
       " ('2017-07', 6013.48),\n",
       " ('2017-08', 6521.54),\n",
       " ('2017-09', 6615.55),\n",
       " ('2017-10', 6842.61),\n",
       " ('2017-11', 6857.5),\n",
       " ('2017-12', 6893.14),\n",
       " ('2018-01', 7112.83),\n",
       " ('2018-02', 7046.6),\n",
       " ('2018-03', 6828.84),\n",
       " ('2018-04', 6881.62),\n",
       " ('2018-05', 6853.83),\n",
       " ('2018-06', 6967.93),\n",
       " ('2018-07', 6269.05),\n",
       " ('2018-08', 6077.74),\n",
       " ('2018-09', 6064.03),\n",
       " ('2018-10', 6209.17),\n",
       " ('2018-11', 6170.36),\n",
       " ('2018-12', 6071.02),\n",
       " ('2019-01', 5963.2),\n",
       " ('2019-02', 6291.33),\n",
       " ('2019-03', 6417.12),\n",
       " ('2019-04', 6452.25),\n",
       " ('2019-05', 6044.48),\n",
       " ('2019-06', 5902.25),\n",
       " ('2019-07', 5956.35),\n",
       " ('2019-08', 5727.39),\n",
       " ('2019-09', 5786.95),\n",
       " ('2019-10', 5785.48),\n",
       " ('2019-11', 5879.6),\n",
       " ('2019-12', 6112.89),\n",
       " ('2020-01', 6062.78),\n",
       " ('2020-02', 5706.6),\n",
       " ('2020-03', 5195.0),\n",
       " ('2020-04', 5075.52),\n",
       " ('2020-05', 5270.05),\n",
       " ('2020-06', 5773.95),\n",
       " ('2020-07', 6366.7),\n",
       " ('2020-08', 6497.4),\n",
       " ('2020-09', 6688.7),\n",
       " ('2020-10', 6726.95),\n",
       " ('2020-11', 7083.4),\n",
       " ('2020-12', 7788.33),\n",
       " ('2021-01', 7968.69),\n",
       " ('2021-02', 8450.15),\n",
       " ('2021-03', 8974.59),\n",
       " ('2021-04', 9267.5),\n",
       " ('2021-05', 10162.36),\n",
       " ('2021-06', 9656.11),\n",
       " ('2021-07', 9480.2),\n",
       " ('2021-08', 9382.5),\n",
       " ('2021-09', 9327.64),\n",
       " ('2021-10', 9647.43),\n",
       " ('2021-11', 9582.55),\n",
       " ('2021-12', 9528.33),\n",
       " ('2022-01', 9752.86),\n",
       " ('2022-02', 9900.38),\n",
       " ('2022-03', 10240.43),\n",
       " ('2022-04', 10184.69),\n",
       " ('2022-05', 9384.82),\n",
       " ('2022-06', 9068.32),\n",
       " ('2022-07', 7556.45),\n",
       " ('2022-08', 7978.8),\n",
       " ('2022-09', 7659.43),\n",
       " ('2022-10', 7571.02),\n",
       " ('2022-11', 8056.86),\n",
       " ('2022-12', 8397.66)]"
      ]
     },
     "execution_count": 55,
     "metadata": {},
     "output_type": "execute_result"
    }
   ],
   "source": [
    "#cRud\n",
    "## query-ing the average price of the 3m copper during every month \n",
    "cursor.execute(\"\"\"\n",
    "    SELECT strftime('%Y-%m', date) AS month_year, ROUND(AVG(price),2) as avg_price\n",
    "    FROM 'LME_Copper_3MO'\n",
    "    GROUP BY month_year\n",
    "    ORDER BY month_year;\"\"\").fetchall()"
   ]
  },
  {
   "cell_type": "code",
   "execution_count": 56,
   "id": "1d837a19",
   "metadata": {},
   "outputs": [
    {
     "name": "stdout",
     "output_type": "stream",
     "text": [
      "Rows updated: 1\n"
     ]
    },
    {
     "data": {
      "text/plain": [
       "[('2020-12-31', 7200.0)]"
      ]
     },
     "execution_count": 56,
     "metadata": {},
     "output_type": "execute_result"
    }
   ],
   "source": [
    "## crUd\n",
    "## function which updates the price at a certain date\n",
    "\n",
    "def table_update(table, new_price, date):\n",
    "    cursor.execute(f\"\"\"\n",
    "        UPDATE {table} SET price = ? WHERE date = ?\n",
    "    \"\"\", (new_price, date))\n",
    "    connection.commit()\n",
    "    print(f\"Rows updated: {cursor.rowcount}\")\n",
    "\n",
    "    \n",
    "table = 'Generic_CL_Future'\n",
    "new_price = 7200\n",
    "date = '2020-12-31'  \n",
    "table_update(table,new_price,date)\n",
    "\n",
    "## checking the price has been updated successfuly \n",
    "cursor.execute(f\"\"\"SELECT * FROM {table} WHERE date = ?\"\"\", (date,)).fetchall()\n",
    "\n"
   ]
  },
  {
   "cell_type": "code",
   "execution_count": 57,
   "id": "95f18efb",
   "metadata": {},
   "outputs": [
    {
     "name": "stdout",
     "output_type": "stream",
     "text": [
      "Rows deleted before 2011-01-01\n",
      "Rows deleted: 261\n"
     ]
    },
    {
     "data": {
      "text/plain": [
       "[]"
      ]
     },
     "execution_count": 57,
     "metadata": {},
     "output_type": "execute_result"
    }
   ],
   "source": [
    "##cruD\n",
    "## function which deletes a range of dates or else a single date\n",
    "\n",
    "def table_delete(table, start_date=None, end_date=None):\n",
    "    if start_date and end_date:\n",
    "        cursor.execute(f\"DELETE FROM {table} WHERE date BETWEEN ? AND ?\", (start_date, end_date))\n",
    "        print(f\"Rows deleted between {start_date} and {end_date}\")\n",
    "    elif start_date:\n",
    "        cursor.execute(f\"DELETE FROM {table} WHERE date < ?\", (start_date,))\n",
    "        print(f\"Rows deleted before {start_date}\")\n",
    "    else:\n",
    "        print(\"No date provided for deletion.\")\n",
    "        return\n",
    "\n",
    "    connection.commit()\n",
    "    print(f\"Rows deleted: {cursor.rowcount}\")\n",
    "\n",
    "table = 'Generic_CL_Future'\n",
    "start_date='2011-01-01'\n",
    "\n",
    "## Delete rows before a specific date\n",
    "table_delete(table, start_date)\n",
    "\n",
    "## checking the rows have been deleted\n",
    "cursor.execute(f\"\"\"SELECT * FROM {table} WHERE date < ?\"\"\", (start_date,)).fetchall()\n"
   ]
  },
  {
   "cell_type": "code",
   "execution_count": 58,
   "id": "9de94228",
   "metadata": {},
   "outputs": [],
   "source": [
    "connection.close()"
   ]
  }
 ],
 "metadata": {
  "kernelspec": {
   "display_name": "Python 3 (ipykernel)",
   "language": "python",
   "name": "python3"
  },
  "language_info": {
   "codemirror_mode": {
    "name": "ipython",
    "version": 3
   },
   "file_extension": ".py",
   "mimetype": "text/x-python",
   "name": "python",
   "nbconvert_exporter": "python",
   "pygments_lexer": "ipython3",
   "version": "3.11.4"
  }
 },
 "nbformat": 4,
 "nbformat_minor": 5
}
